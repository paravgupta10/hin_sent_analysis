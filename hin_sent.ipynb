{
  "nbformat": 4,
  "nbformat_minor": 0,
  "metadata": {
    "colab": {
      "provenance": [],
      "gpuType": "T4"
    },
    "kernelspec": {
      "name": "python3",
      "display_name": "Python 3"
    },
    "language_info": {
      "name": "python"
    },
    "accelerator": "GPU",
    "widgets": {
      "application/vnd.jupyter.widget-state+json": {
        "state":{},
        "a7267350bc6d477d82040a81f35ef213": {
          "model_module": "@jupyter-widgets/controls",
          "model_name": "HBoxModel",
          "model_module_version": "1.5.0",
          "state": {
            "_dom_classes": [],
            "_model_module": "@jupyter-widgets/controls",
            "_model_module_version": "1.5.0",
            "_model_name": "HBoxModel",
            "_view_count": null,
            "_view_module": "@jupyter-widgets/controls",
            "_view_module_version": "1.5.0",
            "_view_name": "HBoxView",
            "box_style": "",
            "children": [
              "IPY_MODEL_784eca51b3924fd0b35c5308d0d2281f",
              "IPY_MODEL_d6da724f22b14e008bb81523e5a9a68f",
              "IPY_MODEL_b52ad2513b6440569fa7a2abd813bb87"
            ],
            "layout": "IPY_MODEL_55f5f85997954909aac5c9454a0a420e"
          }
        },
        "784eca51b3924fd0b35c5308d0d2281f": {
          "model_module": "@jupyter-widgets/controls",
          "model_name": "HTMLModel",
          "model_module_version": "1.5.0",
          "state": {
            "_dom_classes": [],
            "_model_module": "@jupyter-widgets/controls",
            "_model_module_version": "1.5.0",
            "_model_name": "HTMLModel",
            "_view_count": null,
            "_view_module": "@jupyter-widgets/controls",
            "_view_module_version": "1.5.0",
            "_view_name": "HTMLView",
            "description": "",
            "description_tooltip": null,
            "layout": "IPY_MODEL_9322a3bd32d94c3dafb3905a018bc385",
            "placeholder": "​",
            "style": "IPY_MODEL_c063f39b5f734e578a0d1441cfe4a0be",
            "value": "config.json: 100%"
          }
        },
        "d6da724f22b14e008bb81523e5a9a68f": {
          "model_module": "@jupyter-widgets/controls",
          "model_name": "FloatProgressModel",
          "model_module_version": "1.5.0",
          "state": {
            "_dom_classes": [],
            "_model_module": "@jupyter-widgets/controls",
            "_model_module_version": "1.5.0",
            "_model_name": "FloatProgressModel",
            "_view_count": null,
            "_view_module": "@jupyter-widgets/controls",
            "_view_module_version": "1.5.0",
            "_view_name": "ProgressView",
            "bar_style": "success",
            "description": "",
            "description_tooltip": null,
            "layout": "IPY_MODEL_ec6f72c5c3964eb4b936e021cecca472",
            "max": 507,
            "min": 0,
            "orientation": "horizontal",
            "style": "IPY_MODEL_e75799abb2a043e08c14b311368fff61",
            "value": 507
          }
        },
        "b52ad2513b6440569fa7a2abd813bb87": {
          "model_module": "@jupyter-widgets/controls",
          "model_name": "HTMLModel",
          "model_module_version": "1.5.0",
          "state": {
            "_dom_classes": [],
            "_model_module": "@jupyter-widgets/controls",
            "_model_module_version": "1.5.0",
            "_model_name": "HTMLModel",
            "_view_count": null,
            "_view_module": "@jupyter-widgets/controls",
            "_view_module_version": "1.5.0",
            "_view_name": "HTMLView",
            "description": "",
            "description_tooltip": null,
            "layout": "IPY_MODEL_c7c3e84abb764d59a11dc00851c0d367",
            "placeholder": "​",
            "style": "IPY_MODEL_77db6ab6f7bb47a19dafc509e9dddf4d",
            "value": " 507/507 [00:00&lt;00:00, 50.8kB/s]"
          }
        },
        "55f5f85997954909aac5c9454a0a420e": {
          "model_module": "@jupyter-widgets/base",
          "model_name": "LayoutModel",
          "model_module_version": "1.2.0",
          "state": {
            "_model_module": "@jupyter-widgets/base",
            "_model_module_version": "1.2.0",
            "_model_name": "LayoutModel",
            "_view_count": null,
            "_view_module": "@jupyter-widgets/base",
            "_view_module_version": "1.2.0",
            "_view_name": "LayoutView",
            "align_content": null,
            "align_items": null,
            "align_self": null,
            "border": null,
            "bottom": null,
            "display": null,
            "flex": null,
            "flex_flow": null,
            "grid_area": null,
            "grid_auto_columns": null,
            "grid_auto_flow": null,
            "grid_auto_rows": null,
            "grid_column": null,
            "grid_gap": null,
            "grid_row": null,
            "grid_template_areas": null,
            "grid_template_columns": null,
            "grid_template_rows": null,
            "height": null,
            "justify_content": null,
            "justify_items": null,
            "left": null,
            "margin": null,
            "max_height": null,
            "max_width": null,
            "min_height": null,
            "min_width": null,
            "object_fit": null,
            "object_position": null,
            "order": null,
            "overflow": null,
            "overflow_x": null,
            "overflow_y": null,
            "padding": null,
            "right": null,
            "top": null,
            "visibility": null,
            "width": null
          }
        },
        "9322a3bd32d94c3dafb3905a018bc385": {
          "model_module": "@jupyter-widgets/base",
          "model_name": "LayoutModel",
          "model_module_version": "1.2.0",
          "state": {
            "_model_module": "@jupyter-widgets/base",
            "_model_module_version": "1.2.0",
            "_model_name": "LayoutModel",
            "_view_count": null,
            "_view_module": "@jupyter-widgets/base",
            "_view_module_version": "1.2.0",
            "_view_name": "LayoutView",
            "align_content": null,
            "align_items": null,
            "align_self": null,
            "border": null,
            "bottom": null,
            "display": null,
            "flex": null,
            "flex_flow": null,
            "grid_area": null,
            "grid_auto_columns": null,
            "grid_auto_flow": null,
            "grid_auto_rows": null,
            "grid_column": null,
            "grid_gap": null,
            "grid_row": null,
            "grid_template_areas": null,
            "grid_template_columns": null,
            "grid_template_rows": null,
            "height": null,
            "justify_content": null,
            "justify_items": null,
            "left": null,
            "margin": null,
            "max_height": null,
            "max_width": null,
            "min_height": null,
            "min_width": null,
            "object_fit": null,
            "object_position": null,
            "order": null,
            "overflow": null,
            "overflow_x": null,
            "overflow_y": null,
            "padding": null,
            "right": null,
            "top": null,
            "visibility": null,
            "width": null
          }
        },
        "c063f39b5f734e578a0d1441cfe4a0be": {
          "model_module": "@jupyter-widgets/controls",
          "model_name": "DescriptionStyleModel",
          "model_module_version": "1.5.0",
          "state": {
            "_model_module": "@jupyter-widgets/controls",
            "_model_module_version": "1.5.0",
            "_model_name": "DescriptionStyleModel",
            "_view_count": null,
            "_view_module": "@jupyter-widgets/base",
            "_view_module_version": "1.2.0",
            "_view_name": "StyleView",
            "description_width": ""
          }
        },
        "ec6f72c5c3964eb4b936e021cecca472": {
          "model_module": "@jupyter-widgets/base",
          "model_name": "LayoutModel",
          "model_module_version": "1.2.0",
          "state": {
            "_model_module": "@jupyter-widgets/base",
            "_model_module_version": "1.2.0",
            "_model_name": "LayoutModel",
            "_view_count": null,
            "_view_module": "@jupyter-widgets/base",
            "_view_module_version": "1.2.0",
            "_view_name": "LayoutView",
            "align_content": null,
            "align_items": null,
            "align_self": null,
            "border": null,
            "bottom": null,
            "display": null,
            "flex": null,
            "flex_flow": null,
            "grid_area": null,
            "grid_auto_columns": null,
            "grid_auto_flow": null,
            "grid_auto_rows": null,
            "grid_column": null,
            "grid_gap": null,
            "grid_row": null,
            "grid_template_areas": null,
            "grid_template_columns": null,
            "grid_template_rows": null,
            "height": null,
            "justify_content": null,
            "justify_items": null,
            "left": null,
            "margin": null,
            "max_height": null,
            "max_width": null,
            "min_height": null,
            "min_width": null,
            "object_fit": null,
            "object_position": null,
            "order": null,
            "overflow": null,
            "overflow_x": null,
            "overflow_y": null,
            "padding": null,
            "right": null,
            "top": null,
            "visibility": null,
            "width": null
          }
        },
        "e75799abb2a043e08c14b311368fff61": {
          "model_module": "@jupyter-widgets/controls",
          "model_name": "ProgressStyleModel",
          "model_module_version": "1.5.0",
          "state": {
            "_model_module": "@jupyter-widgets/controls",
            "_model_module_version": "1.5.0",
            "_model_name": "ProgressStyleModel",
            "_view_count": null,
            "_view_module": "@jupyter-widgets/base",
            "_view_module_version": "1.2.0",
            "_view_name": "StyleView",
            "bar_color": null,
            "description_width": ""
          }
        },
        "c7c3e84abb764d59a11dc00851c0d367": {
          "model_module": "@jupyter-widgets/base",
          "model_name": "LayoutModel",
          "model_module_version": "1.2.0",
          "state": {
            "_model_module": "@jupyter-widgets/base",
            "_model_module_version": "1.2.0",
            "_model_name": "LayoutModel",
            "_view_count": null,
            "_view_module": "@jupyter-widgets/base",
            "_view_module_version": "1.2.0",
            "_view_name": "LayoutView",
            "align_content": null,
            "align_items": null,
            "align_self": null,
            "border": null,
            "bottom": null,
            "display": null,
            "flex": null,
            "flex_flow": null,
            "grid_area": null,
            "grid_auto_columns": null,
            "grid_auto_flow": null,
            "grid_auto_rows": null,
            "grid_column": null,
            "grid_gap": null,
            "grid_row": null,
            "grid_template_areas": null,
            "grid_template_columns": null,
            "grid_template_rows": null,
            "height": null,
            "justify_content": null,
            "justify_items": null,
            "left": null,
            "margin": null,
            "max_height": null,
            "max_width": null,
            "min_height": null,
            "min_width": null,
            "object_fit": null,
            "object_position": null,
            "order": null,
            "overflow": null,
            "overflow_x": null,
            "overflow_y": null,
            "padding": null,
            "right": null,
            "top": null,
            "visibility": null,
            "width": null
          }
        },
        "77db6ab6f7bb47a19dafc509e9dddf4d": {
          "model_module": "@jupyter-widgets/controls",
          "model_name": "DescriptionStyleModel",
          "model_module_version": "1.5.0",
          "state": {
            "_model_module": "@jupyter-widgets/controls",
            "_model_module_version": "1.5.0",
            "_model_name": "DescriptionStyleModel",
            "_view_count": null,
            "_view_module": "@jupyter-widgets/base",
            "_view_module_version": "1.2.0",
            "_view_name": "StyleView",
            "description_width": ""
          }
        },
        "87a3c51a078141d7a81f76c7a48de2e8": {
          "model_module": "@jupyter-widgets/controls",
          "model_name": "HBoxModel",
          "model_module_version": "1.5.0",
          "state": {
            "_dom_classes": [],
            "_model_module": "@jupyter-widgets/controls",
            "_model_module_version": "1.5.0",
            "_model_name": "HBoxModel",
            "_view_count": null,
            "_view_module": "@jupyter-widgets/controls",
            "_view_module_version": "1.5.0",
            "_view_name": "HBoxView",
            "box_style": "",
            "children": [
              "IPY_MODEL_90f7645545f947ca92226fd3e3ecfe95",
              "IPY_MODEL_0a32c6126a504b0e9a1a217af6b76ecb",
              "IPY_MODEL_7eee0ed5bd2745bdb0e0c0ded2fc0989"
            ],
            "layout": "IPY_MODEL_237a48da78c04d16b7fa3305ee670cdf"
          }
        },
        "90f7645545f947ca92226fd3e3ecfe95": {
          "model_module": "@jupyter-widgets/controls",
          "model_name": "HTMLModel",
          "model_module_version": "1.5.0",
          "state": {
            "_dom_classes": [],
            "_model_module": "@jupyter-widgets/controls",
            "_model_module_version": "1.5.0",
            "_model_name": "HTMLModel",
            "_view_count": null,
            "_view_module": "@jupyter-widgets/controls",
            "_view_module_version": "1.5.0",
            "_view_name": "HTMLView",
            "description": "",
            "description_tooltip": null,
            "layout": "IPY_MODEL_1983c18a439d4086888e1e63f907517c",
            "placeholder": "​",
            "style": "IPY_MODEL_79d8f3c4e762428f8bf7b1e1ddccd0cd",
            "value": "spiece.model: 100%"
          }
        },
        "0a32c6126a504b0e9a1a217af6b76ecb": {
          "model_module": "@jupyter-widgets/controls",
          "model_name": "FloatProgressModel",
          "model_module_version": "1.5.0",
          "state": {
            "_dom_classes": [],
            "_model_module": "@jupyter-widgets/controls",
            "_model_module_version": "1.5.0",
            "_model_name": "FloatProgressModel",
            "_view_count": null,
            "_view_module": "@jupyter-widgets/controls",
            "_view_module_version": "1.5.0",
            "_view_name": "ProgressView",
            "bar_style": "success",
            "description": "",
            "description_tooltip": null,
            "layout": "IPY_MODEL_99c2f79373f04c99b38ed41d49842e31",
            "max": 5646064,
            "min": 0,
            "orientation": "horizontal",
            "style": "IPY_MODEL_f6d6ec1d4dce4778bf9b369fe593c438",
            "value": 5646064
          }
        },
        "7eee0ed5bd2745bdb0e0c0ded2fc0989": {
          "model_module": "@jupyter-widgets/controls",
          "model_name": "HTMLModel",
          "model_module_version": "1.5.0",
          "state": {
            "_dom_classes": [],
            "_model_module": "@jupyter-widgets/controls",
            "_model_module_version": "1.5.0",
            "_model_name": "HTMLModel",
            "_view_count": null,
            "_view_module": "@jupyter-widgets/controls",
            "_view_module_version": "1.5.0",
            "_view_name": "HTMLView",
            "description": "",
            "description_tooltip": null,
            "layout": "IPY_MODEL_12ff27a3a99d4638a7fa06a73539ea0d",
            "placeholder": "​",
            "style": "IPY_MODEL_acc4be7ade5f42f8ad7267d132b798f9",
            "value": " 5.65M/5.65M [00:00&lt;00:00, 29.0MB/s]"
          }
        },
        "237a48da78c04d16b7fa3305ee670cdf": {
          "model_module": "@jupyter-widgets/base",
          "model_name": "LayoutModel",
          "model_module_version": "1.2.0",
          "state": {
            "_model_module": "@jupyter-widgets/base",
            "_model_module_version": "1.2.0",
            "_model_name": "LayoutModel",
            "_view_count": null,
            "_view_module": "@jupyter-widgets/base",
            "_view_module_version": "1.2.0",
            "_view_name": "LayoutView",
            "align_content": null,
            "align_items": null,
            "align_self": null,
            "border": null,
            "bottom": null,
            "display": null,
            "flex": null,
            "flex_flow": null,
            "grid_area": null,
            "grid_auto_columns": null,
            "grid_auto_flow": null,
            "grid_auto_rows": null,
            "grid_column": null,
            "grid_gap": null,
            "grid_row": null,
            "grid_template_areas": null,
            "grid_template_columns": null,
            "grid_template_rows": null,
            "height": null,
            "justify_content": null,
            "justify_items": null,
            "left": null,
            "margin": null,
            "max_height": null,
            "max_width": null,
            "min_height": null,
            "min_width": null,
            "object_fit": null,
            "object_position": null,
            "order": null,
            "overflow": null,
            "overflow_x": null,
            "overflow_y": null,
            "padding": null,
            "right": null,
            "top": null,
            "visibility": null,
            "width": null
          }
        },
        "1983c18a439d4086888e1e63f907517c": {
          "model_module": "@jupyter-widgets/base",
          "model_name": "LayoutModel",
          "model_module_version": "1.2.0",
          "state": {
            "_model_module": "@jupyter-widgets/base",
            "_model_module_version": "1.2.0",
            "_model_name": "LayoutModel",
            "_view_count": null,
            "_view_module": "@jupyter-widgets/base",
            "_view_module_version": "1.2.0",
            "_view_name": "LayoutView",
            "align_content": null,
            "align_items": null,
            "align_self": null,
            "border": null,
            "bottom": null,
            "display": null,
            "flex": null,
            "flex_flow": null,
            "grid_area": null,
            "grid_auto_columns": null,
            "grid_auto_flow": null,
            "grid_auto_rows": null,
            "grid_column": null,
            "grid_gap": null,
            "grid_row": null,
            "grid_template_areas": null,
            "grid_template_columns": null,
            "grid_template_rows": null,
            "height": null,
            "justify_content": null,
            "justify_items": null,
            "left": null,
            "margin": null,
            "max_height": null,
            "max_width": null,
            "min_height": null,
            "min_width": null,
            "object_fit": null,
            "object_position": null,
            "order": null,
            "overflow": null,
            "overflow_x": null,
            "overflow_y": null,
            "padding": null,
            "right": null,
            "top": null,
            "visibility": null,
            "width": null
          }
        },
        "79d8f3c4e762428f8bf7b1e1ddccd0cd": {
          "model_module": "@jupyter-widgets/controls",
          "model_name": "DescriptionStyleModel",
          "model_module_version": "1.5.0",
          "state": {
            "_model_module": "@jupyter-widgets/controls",
            "_model_module_version": "1.5.0",
            "_model_name": "DescriptionStyleModel",
            "_view_count": null,
            "_view_module": "@jupyter-widgets/base",
            "_view_module_version": "1.2.0",
            "_view_name": "StyleView",
            "description_width": ""
          }
        },
        "99c2f79373f04c99b38ed41d49842e31": {
          "model_module": "@jupyter-widgets/base",
          "model_name": "LayoutModel",
          "model_module_version": "1.2.0",
          "state": {
            "_model_module": "@jupyter-widgets/base",
            "_model_module_version": "1.2.0",
            "_model_name": "LayoutModel",
            "_view_count": null,
            "_view_module": "@jupyter-widgets/base",
            "_view_module_version": "1.2.0",
            "_view_name": "LayoutView",
            "align_content": null,
            "align_items": null,
            "align_self": null,
            "border": null,
            "bottom": null,
            "display": null,
            "flex": null,
            "flex_flow": null,
            "grid_area": null,
            "grid_auto_columns": null,
            "grid_auto_flow": null,
            "grid_auto_rows": null,
            "grid_column": null,
            "grid_gap": null,
            "grid_row": null,
            "grid_template_areas": null,
            "grid_template_columns": null,
            "grid_template_rows": null,
            "height": null,
            "justify_content": null,
            "justify_items": null,
            "left": null,
            "margin": null,
            "max_height": null,
            "max_width": null,
            "min_height": null,
            "min_width": null,
            "object_fit": null,
            "object_position": null,
            "order": null,
            "overflow": null,
            "overflow_x": null,
            "overflow_y": null,
            "padding": null,
            "right": null,
            "top": null,
            "visibility": null,
            "width": null
          }
        },
        "f6d6ec1d4dce4778bf9b369fe593c438": {
          "model_module": "@jupyter-widgets/controls",
          "model_name": "ProgressStyleModel",
          "model_module_version": "1.5.0",
          "state": {
            "_model_module": "@jupyter-widgets/controls",
            "_model_module_version": "1.5.0",
            "_model_name": "ProgressStyleModel",
            "_view_count": null,
            "_view_module": "@jupyter-widgets/base",
            "_view_module_version": "1.2.0",
            "_view_name": "StyleView",
            "bar_color": null,
            "description_width": ""
          }
        },
        "12ff27a3a99d4638a7fa06a73539ea0d": {
          "model_module": "@jupyter-widgets/base",
          "model_name": "LayoutModel",
          "model_module_version": "1.2.0",
          "state": {
            "_model_module": "@jupyter-widgets/base",
            "_model_module_version": "1.2.0",
            "_model_name": "LayoutModel",
            "_view_count": null,
            "_view_module": "@jupyter-widgets/base",
            "_view_module_version": "1.2.0",
            "_view_name": "LayoutView",
            "align_content": null,
            "align_items": null,
            "align_self": null,
            "border": null,
            "bottom": null,
            "display": null,
            "flex": null,
            "flex_flow": null,
            "grid_area": null,
            "grid_auto_columns": null,
            "grid_auto_flow": null,
            "grid_auto_rows": null,
            "grid_column": null,
            "grid_gap": null,
            "grid_row": null,
            "grid_template_areas": null,
            "grid_template_columns": null,
            "grid_template_rows": null,
            "height": null,
            "justify_content": null,
            "justify_items": null,
            "left": null,
            "margin": null,
            "max_height": null,
            "max_width": null,
            "min_height": null,
            "min_width": null,
            "object_fit": null,
            "object_position": null,
            "order": null,
            "overflow": null,
            "overflow_x": null,
            "overflow_y": null,
            "padding": null,
            "right": null,
            "top": null,
            "visibility": null,
            "width": null
          }
        },
        "acc4be7ade5f42f8ad7267d132b798f9": {
          "model_module": "@jupyter-widgets/controls",
          "model_name": "DescriptionStyleModel",
          "model_module_version": "1.5.0",
          "state": {
            "_model_module": "@jupyter-widgets/controls",
            "_model_module_version": "1.5.0",
            "_model_name": "DescriptionStyleModel",
            "_view_count": null,
            "_view_module": "@jupyter-widgets/base",
            "_view_module_version": "1.2.0",
            "_view_name": "StyleView",
            "description_width": ""
          }
        }
      }
    }
  },
  "cells": [
    {
      "cell_type": "code",
      "source": [
        "import pandas as pd\n",
        "import torch\n",
        "import torch.nn as nn\n",
        "import math\n",
        "from transformers import AutoTokenizer\n",
        "from torch.utils.data import DataLoader, TensorDataset"
      ],
      "metadata": {
        "id": "bbeyuaLO2Zmd"
      },
      "execution_count": null,
      "outputs": []
    },
    {
      "cell_type": "code",
      "source": [
        "train_df = pd.read_excel(\"train.xlsx\")\n",
        "test_df = pd.read_excel(\"test.xlsx\")\n",
        "\n",
        "train_df = train_df[[\"content_hindi\", \"labels\"]].dropna()\n",
        "test_df = test_df[[\"content_hindi\", \"labels\"]].dropna()\n",
        "\n",
        "label_map = {\"Negative\": 0, \"Neutral\": 1, \"Positive\": 2}\n",
        "train_df[\"label\"] = train_df[\"labels\"].map(label_map)\n",
        "test_df[\"label\"] = test_df[\"labels\"].map(label_map)\n",
        "\n",
        "tokenizer = AutoTokenizer.from_pretrained(\"ai4bharat/indic-bert\")"
      ],
      "metadata": {
        "colab": {
          "base_uri": "https://localhost:8080/",
          "height": 208,
          "referenced_widgets": [
            "a7267350bc6d477d82040a81f35ef213",
            "784eca51b3924fd0b35c5308d0d2281f",
            "d6da724f22b14e008bb81523e5a9a68f",
            "b52ad2513b6440569fa7a2abd813bb87",
            "55f5f85997954909aac5c9454a0a420e",
            "9322a3bd32d94c3dafb3905a018bc385",
            "c063f39b5f734e578a0d1441cfe4a0be",
            "ec6f72c5c3964eb4b936e021cecca472",
            "e75799abb2a043e08c14b311368fff61",
            "c7c3e84abb764d59a11dc00851c0d367",
            "77db6ab6f7bb47a19dafc509e9dddf4d",
            "87a3c51a078141d7a81f76c7a48de2e8",
            "90f7645545f947ca92226fd3e3ecfe95",
            "0a32c6126a504b0e9a1a217af6b76ecb",
            "7eee0ed5bd2745bdb0e0c0ded2fc0989",
            "237a48da78c04d16b7fa3305ee670cdf",
            "1983c18a439d4086888e1e63f907517c",
            "79d8f3c4e762428f8bf7b1e1ddccd0cd",
            "99c2f79373f04c99b38ed41d49842e31",
            "f6d6ec1d4dce4778bf9b369fe593c438",
            "12ff27a3a99d4638a7fa06a73539ea0d",
            "acc4be7ade5f42f8ad7267d132b798f9"
          ]
        },
        "id": "MCsLpsfm2eAB",
        "outputId": "aa285f84-3229-4a85-a2b2-a0068d685e12"
      },
      "execution_count": null,
      "outputs": [
        {
          "output_type": "stream",
          "name": "stderr",
          "text": [
            "/usr/local/lib/python3.11/dist-packages/huggingface_hub/utils/_auth.py:94: UserWarning: \n",
            "The secret `HF_TOKEN` does not exist in your Colab secrets.\n",
            "To authenticate with the Hugging Face Hub, create a token in your settings tab (https://huggingface.co/settings/tokens), set it as secret in your Google Colab and restart your session.\n",
            "You will be able to reuse this secret in all of your notebooks.\n",
            "Please note that authentication is recommended but still optional to access public models or datasets.\n",
            "  warnings.warn(\n"
          ]
        },
        {
          "output_type": "display_data",
          "data": {
            "text/plain": [
              "config.json:   0%|          | 0.00/507 [00:00<?, ?B/s]"
            ],
            "application/vnd.jupyter.widget-view+json": {
              "version_major": 2,
              "version_minor": 0,
              "model_id": "a7267350bc6d477d82040a81f35ef213"
            }
          },
          "metadata": {}
        },
        {
          "output_type": "display_data",
          "data": {
            "text/plain": [
              "spiece.model:   0%|          | 0.00/5.65M [00:00<?, ?B/s]"
            ],
            "application/vnd.jupyter.widget-view+json": {
              "version_major": 2,
              "version_minor": 0,
              "model_id": "87a3c51a078141d7a81f76c7a48de2e8"
            }
          },
          "metadata": {}
        }
      ]
    },
    {
      "cell_type": "code",
      "source": [
        "def tokenize_data(df):\n",
        "    tokens = tokenizer(\n",
        "        df[\"content_hindi\"].tolist(),\n",
        "        truncation=True,\n",
        "        padding=\"max_length\",\n",
        "        max_length=32\n",
        "    )\n",
        "    input_ids = torch.tensor(tokens[\"input_ids\"])\n",
        "    labels = torch.tensor(df[\"label\"].tolist())\n",
        "    return TensorDataset(input_ids, labels)\n",
        "\n",
        "# 🧱 DataLoaders\n",
        "train_loader = DataLoader(tokenize_data(train_df), batch_size=32, shuffle=True)\n",
        "test_loader = DataLoader(tokenize_data(test_df), batch_size=32)\n"
      ],
      "metadata": {
        "id": "8A2Z0k1Y2hRo"
      },
      "execution_count": null,
      "outputs": []
    },
    {
      "cell_type": "code",
      "source": [
        "import torch\n",
        "import torch.nn as nn\n",
        "import math\n",
        "\n",
        "class PositionalEncoding(nn.Module):\n",
        "    def __init__(self, d_model, max_len=512):\n",
        "        super().__init__()\n",
        "        pe = torch.zeros(max_len, d_model)\n",
        "        for pos in range(max_len):\n",
        "            for i in range(0, d_model, 2):\n",
        "                pe[pos, i] = math.sin(pos / (10000 ** ((2 * i)/d_model)))\n",
        "                if i + 1 < d_model:\n",
        "                    pe[pos, i + 1] = math.cos(pos / (10000 ** ((2 * i)/d_model)))\n",
        "        self.pe = pe.unsqueeze(0)\n",
        "\n",
        "    def forward(self, x):\n",
        "        return x + self.pe[:, :x.size(1)].to(x.device)\n",
        "\n",
        "class TransformerClassifier(nn.Module):\n",
        "    def __init__(self, vocab_size, d_model=128, nhead=4, num_layers=2, num_classes=3):\n",
        "        super().__init__()\n",
        "        self.embedding = nn.Embedding(vocab_size, d_model)\n",
        "        self.layernorm = nn.LayerNorm(d_model)\n",
        "        self.pos_encoder = PositionalEncoding(d_model)\n",
        "\n",
        "        encoder_layer = nn.TransformerEncoderLayer(d_model, nhead, activation='gelu')\n",
        "        self.transformer = nn.TransformerEncoder(encoder_layer, num_layers)\n",
        "\n",
        "        # Attention Pooling Layer\n",
        "        self.attention = nn.Linear(d_model, 1)\n",
        "        nn.init.xavier_uniform_(self.attention.weight)\n",
        "\n",
        "        self.fc = nn.Linear(d_model, num_classes)\n",
        "        self.dropout = nn.Dropout(0.2)\n",
        "\n",
        "    def forward(self, src):\n",
        "        x = self.embedding(src)\n",
        "        x = self.layernorm(x)\n",
        "        x = self.pos_encoder(x)\n",
        "        x = self.dropout(x)\n",
        "\n",
        "        x = self.transformer(x)\n",
        "\n",
        "        weights = torch.softmax(self.attention(x), dim=1)\n",
        "        x = (x * weights).sum(dim=1) + x.mean(dim=1) * 0.1  # residual pooling\n",
        "\n",
        "        return self.fc(x)\n"
      ],
      "metadata": {
        "id": "SGcNxLoFev9H"
      },
      "execution_count": null,
      "outputs": []
    },
    {
      "cell_type": "code",
      "execution_count": null,
      "metadata": {
        "colab": {
          "base_uri": "https://localhost:8080/"
        },
        "id": "Wpu7SPH42WO-",
        "outputId": "7aa86d73-de8c-4c46-f02a-883ce118a33a"
      },
      "outputs": [
        {
          "output_type": "stream",
          "name": "stderr",
          "text": [
            "/usr/local/lib/python3.11/dist-packages/torch/nn/modules/transformer.py:385: UserWarning: enable_nested_tensor is True, but self.use_nested_tensor is False because encoder_layer.self_attn.batch_first was not True(use batch_first for better inference performance)\n",
            "  warnings.warn(\n"
          ]
        }
      ],
      "source": [
        "device = torch.device(\"cuda\" if torch.cuda.is_available() else \"cpu\")\n",
        "model = TransformerClassifier(vocab_size=tokenizer.vocab_size).to(device)\n",
        "optimizer = torch.optim.Adam(model.parameters(), lr=1e-4)\n",
        "loss_fn = nn.CrossEntropyLoss()\n"
      ]
    },
    {
      "cell_type": "code",
      "source": [
        "for epoch in range(100):\n",
        "    model.train()\n",
        "    total_loss = 0\n",
        "    for batch in train_loader:\n",
        "        x, y = [b.to(device) for b in batch]\n",
        "        logits = model(x)\n",
        "        loss = loss_fn(logits, y)\n",
        "        optimizer.zero_grad()\n",
        "        loss.backward()\n",
        "        optimizer.step()\n",
        "        total_loss += loss.item()\n",
        "    print(f\"Epoch {epoch+1} Loss: {total_loss / len(train_loader):.4f}\")"
      ],
      "metadata": {
        "colab": {
          "base_uri": "https://localhost:8080/"
        },
        "id": "PRJIInpq3OSm",
        "outputId": "0affdbe6-b711-4020-e312-232e37845da2"
      },
      "execution_count": null,
      "outputs": [
        {
          "output_type": "stream",
          "name": "stdout",
          "text": [
            "Epoch 1 Loss: 0.4388\n",
            "Epoch 2 Loss: 0.4440\n",
            "Epoch 3 Loss: 0.4319\n",
            "Epoch 4 Loss: 0.4242\n",
            "Epoch 5 Loss: 0.4138\n",
            "Epoch 6 Loss: 0.4282\n",
            "Epoch 7 Loss: 0.4220\n",
            "Epoch 8 Loss: 0.4014\n",
            "Epoch 9 Loss: 0.4154\n",
            "Epoch 10 Loss: 0.3989\n",
            "Epoch 11 Loss: 0.4159\n",
            "Epoch 12 Loss: 0.3990\n",
            "Epoch 13 Loss: 0.3876\n",
            "Epoch 14 Loss: 0.4045\n",
            "Epoch 15 Loss: 0.3833\n",
            "Epoch 16 Loss: 0.4018\n",
            "Epoch 17 Loss: 0.3864\n",
            "Epoch 18 Loss: 0.3828\n",
            "Epoch 19 Loss: 0.3899\n",
            "Epoch 20 Loss: 0.3771\n",
            "Epoch 21 Loss: 0.3865\n",
            "Epoch 22 Loss: 0.3846\n",
            "Epoch 23 Loss: 0.3671\n",
            "Epoch 24 Loss: 0.3683\n",
            "Epoch 25 Loss: 0.3535\n",
            "Epoch 26 Loss: 0.3504\n",
            "Epoch 27 Loss: 0.3588\n",
            "Epoch 28 Loss: 0.3405\n",
            "Epoch 29 Loss: 0.3408\n",
            "Epoch 30 Loss: 0.3322\n",
            "Epoch 31 Loss: 0.3383\n",
            "Epoch 32 Loss: 0.3518\n",
            "Epoch 33 Loss: 0.3358\n",
            "Epoch 34 Loss: 0.3289\n",
            "Epoch 35 Loss: 0.3293\n",
            "Epoch 36 Loss: 0.3548\n",
            "Epoch 37 Loss: 0.3307\n",
            "Epoch 38 Loss: 0.3078\n",
            "Epoch 39 Loss: 0.3112\n",
            "Epoch 40 Loss: 0.3194\n",
            "Epoch 41 Loss: 0.3091\n",
            "Epoch 42 Loss: 0.3123\n",
            "Epoch 43 Loss: 0.3106\n",
            "Epoch 44 Loss: 0.2864\n",
            "Epoch 45 Loss: 0.2918\n",
            "Epoch 46 Loss: 0.2921\n",
            "Epoch 47 Loss: 0.2869\n",
            "Epoch 48 Loss: 0.2978\n",
            "Epoch 49 Loss: 0.2883\n",
            "Epoch 50 Loss: 0.2879\n",
            "Epoch 51 Loss: 0.2880\n",
            "Epoch 52 Loss: 0.2858\n",
            "Epoch 53 Loss: 0.2860\n",
            "Epoch 54 Loss: 0.2783\n",
            "Epoch 55 Loss: 0.2795\n",
            "Epoch 56 Loss: 0.2703\n",
            "Epoch 57 Loss: 0.2762\n",
            "Epoch 58 Loss: 0.2738\n",
            "Epoch 59 Loss: 0.2594\n",
            "Epoch 60 Loss: 0.2552\n",
            "Epoch 61 Loss: 0.2585\n",
            "Epoch 62 Loss: 0.2509\n",
            "Epoch 63 Loss: 0.2613\n",
            "Epoch 64 Loss: 0.2579\n",
            "Epoch 65 Loss: 0.2448\n",
            "Epoch 66 Loss: 0.2478\n",
            "Epoch 67 Loss: 0.2347\n",
            "Epoch 68 Loss: 0.2438\n",
            "Epoch 69 Loss: 0.2419\n",
            "Epoch 70 Loss: 0.2447\n",
            "Epoch 71 Loss: 0.2417\n",
            "Epoch 72 Loss: 0.2308\n",
            "Epoch 73 Loss: 0.2386\n",
            "Epoch 74 Loss: 0.2183\n",
            "Epoch 75 Loss: 0.2317\n",
            "Epoch 76 Loss: 0.2343\n",
            "Epoch 77 Loss: 0.2291\n",
            "Epoch 78 Loss: 0.2152\n",
            "Epoch 79 Loss: 0.2109\n",
            "Epoch 80 Loss: 0.2210\n",
            "Epoch 81 Loss: 0.2139\n",
            "Epoch 82 Loss: 0.1974\n",
            "Epoch 83 Loss: 0.2189\n",
            "Epoch 84 Loss: 0.1958\n",
            "Epoch 85 Loss: 0.2088\n",
            "Epoch 86 Loss: 0.2118\n",
            "Epoch 87 Loss: 0.2032\n",
            "Epoch 88 Loss: 0.2073\n",
            "Epoch 89 Loss: 0.1797\n",
            "Epoch 90 Loss: 0.2032\n",
            "Epoch 91 Loss: 0.1937\n",
            "Epoch 92 Loss: 0.2005\n",
            "Epoch 93 Loss: 0.1880\n",
            "Epoch 94 Loss: 0.1927\n",
            "Epoch 95 Loss: 0.1772\n",
            "Epoch 96 Loss: 0.1803\n",
            "Epoch 97 Loss: 0.1770\n",
            "Epoch 98 Loss: 0.1919\n",
            "Epoch 99 Loss: 0.1726\n",
            "Epoch 100 Loss: 0.1727\n"
          ]
        }
      ]
    },
    {
      "cell_type": "code",
      "source": [
        "model.eval()\n",
        "correct = 0\n",
        "total = 0\n",
        "with torch.no_grad():\n",
        "    for batch in test_loader:\n",
        "        x, y = [b.to(device) for b in batch]\n",
        "        preds = torch.argmax(model(x), dim=1)\n",
        "        correct += (preds == y).sum().item()\n",
        "        total += y.size(0)\n",
        "print(f\"\\nTest Accuracy: {correct / total:.2%}\")"
      ],
      "metadata": {
        "colab": {
          "base_uri": "https://localhost:8080/"
        },
        "id": "QZjuYSPr2nNE",
        "outputId": "7a5970e5-a746-46c5-e452-9b51e3cfad70"
      },
      "execution_count": null,
      "outputs": [
        {
          "output_type": "stream",
          "name": "stdout",
          "text": [
            "\n",
            "Test Accuracy: 58.94%\n"
          ]
        }
      ]
    },
    {
      "cell_type": "code",
      "source": [
        "# Inference Function\n",
        "def predict(text):\n",
        "    model.eval()\n",
        "    with torch.no_grad():\n",
        "        tokens = tokenizer(text, return_tensors=\"pt\", padding=\"max_length\", max_length=32, truncation=True)\n",
        "        logits = model(tokens[\"input_ids\"].to(device))\n",
        "        pred = torch.argmax(logits, dim=1).item()\n",
        "        return [\"Negative\", \"Neutral\", \"Positive\"][pred]\n",
        "\n",
        "print(predict(\"यह उत्पाद बहुत बेकार है\"))"
      ],
      "metadata": {
        "colab": {
          "base_uri": "https://localhost:8080/"
        },
        "id": "n8FPL9ic48k4",
        "outputId": "1c1cb468-e0c4-4741-ee23-377ab942c697"
      },
      "execution_count": null,
      "outputs": [
        {
          "output_type": "stream",
          "name": "stdout",
          "text": [
            "Negative\n"
          ]
        }
      ]
    },
    {
      "cell_type": "code",
      "source": [
        "print(predict(\"यह उत्पाद अच्छा है\"))"
      ],
      "metadata": {
        "colab": {
          "base_uri": "https://localhost:8080/"
        },
        "id": "p4Dw3ClDmjjG",
        "outputId": "a4db9f85-73af-4d69-c8fe-8ba1313c5f99"
      },
      "execution_count": null,
      "outputs": [
        {
          "output_type": "stream",
          "name": "stdout",
          "text": [
            "Positive\n"
          ]
        }
      ]
    }
  ]
}
